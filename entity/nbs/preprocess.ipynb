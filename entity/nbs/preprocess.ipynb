{
 "cells": [
  {
   "cell_type": "code",
   "execution_count": 1,
   "metadata": {},
   "outputs": [],
   "source": [
    "import json\n",
    "import pandas as pd\n",
    "import os, glob, shutil\n",
    "import matplotlib.pyplot as plt"
   ]
  },
  {
   "cell_type": "markdown",
   "metadata": {},
   "source": [
    "Now, we need to see what are all the different classes the NER dataset has"
   ]
  },
  {
   "cell_type": "code",
   "execution_count": 2,
   "metadata": {},
   "outputs": [
    {
     "name": "stdout",
     "output_type": "stream",
     "text": [
      "['COURT']\tHigh Court Of Kerala At Ernakulam\n",
      "['PETITIONER']\tT.R.Ajayan\n",
      "['RESPONDENT']\tM.Ravindran\n",
      "['RESPONDENT']\tNirmala Dinesh\n",
      "['LAWYER']\tA.Kumar\n",
      "['LAWYER']\tM.K.Pushpalatha\n",
      "['JUDGE']\tP.R.Raman\n",
      "['JUDGE']\tV.K.Mohanan\n",
      "===\n",
      "['JUDGE']\tLokesh Kumar Sharma\n",
      "['PETITIONER']\tChanakyapuri\n",
      "['RESPONDENT']\tJindal Steel & Power Ltd.\n",
      "['RESPONDENT']\tThe State\n",
      "['RESPONDENT']\tPlanman Media Pvt. Ltd.\n",
      "['RESPONDENT']\tArindam Chaudhuri\n",
      "['RESPONDENT']\tJindal Steel & Power Ltd\n",
      "['RESPONDENT']\tState & Ors.\n",
      "['LAWYER']\tA. Sandeep\n",
      "['LAWYER']\tAshok Bose\n",
      "===\n"
     ]
    }
   ],
   "source": [
    "data = json.load(open('../../data/ner/NER_TRAIN/NER_TRAIN_PREAMBLE.json'))\n",
    "\n",
    "for ix in range(2):\n",
    "    for res in data[ix]['annotations']:\n",
    "        tmp = res['result']\n",
    "        for r in tmp:\n",
    "            print(f\"{r['value']['labels']}\\t{r['value']['text']}\")\n",
    "    print(\"===\")"
   ]
  },
  {
   "cell_type": "code",
   "execution_count": 3,
   "metadata": {},
   "outputs": [
    {
     "name": "stderr",
     "output_type": "stream",
     "text": [
      "100%|█████████████████████████████████████████████████████████████████████████████████████████████████████████████████████████████████| 1560/1560 [00:00<00:00, 273644.53it/s]\n"
     ]
    }
   ],
   "source": [
    "CLASSES = []\n",
    "\n",
    "\n",
    "from tqdm import tqdm\n",
    "\n",
    "for ix in tqdm(range(len(data))):\n",
    "    for res in data[ix]['annotations']:\n",
    "        tmp = res['result']\n",
    "        for r in tmp:\n",
    "            # print(f\"{r['value']['labels']}\\t{r['value']['text']}\")\n",
    "            CLASSES.extend(r['value']['labels'])\n",
    "    # print(\"===\")"
   ]
  },
  {
   "cell_type": "code",
   "execution_count": 4,
   "metadata": {},
   "outputs": [
    {
     "data": {
      "text/plain": [
       "['COURT',\n",
       " 'PETITIONER',\n",
       " 'RESPONDENT',\n",
       " 'RESPONDENT',\n",
       " 'LAWYER',\n",
       " 'LAWYER',\n",
       " 'JUDGE',\n",
       " 'JUDGE',\n",
       " 'JUDGE',\n",
       " 'PETITIONER']"
      ]
     },
     "execution_count": 4,
     "metadata": {},
     "output_type": "execute_result"
    }
   ],
   "source": [
    "CLASSES[:10]"
   ]
  },
  {
   "cell_type": "code",
   "execution_count": 5,
   "metadata": {},
   "outputs": [
    {
     "data": {
      "text/plain": [
       "(12479, 5)"
      ]
     },
     "execution_count": 5,
     "metadata": {},
     "output_type": "execute_result"
    }
   ],
   "source": [
    "UNIQUE_CLASSES = list(set(CLASSES))\n",
    "len(CLASSES), len(UNIQUE_CLASSES)"
   ]
  },
  {
   "cell_type": "code",
   "execution_count": 6,
   "metadata": {},
   "outputs": [
    {
     "data": {
      "text/plain": [
       "Counter({'RESPONDENT': 3538,\n",
       "         'LAWYER': 3505,\n",
       "         'PETITIONER': 2604,\n",
       "         'JUDGE': 1758,\n",
       "         'COURT': 1074})"
      ]
     },
     "execution_count": 6,
     "metadata": {},
     "output_type": "execute_result"
    }
   ],
   "source": [
    "from collections import Counter\n",
    "Counter(CLASSES)"
   ]
  },
  {
   "cell_type": "code",
   "execution_count": 7,
   "metadata": {},
   "outputs": [
    {
     "data": {
      "text/plain": [
       "['LAWYER', 'JUDGE', 'PETITIONER', 'RESPONDENT', 'COURT']"
      ]
     },
     "execution_count": 7,
     "metadata": {},
     "output_type": "execute_result"
    }
   ],
   "source": [
    "UNIQUE_CLASSES"
   ]
  },
  {
   "cell_type": "code",
   "execution_count": 8,
   "metadata": {},
   "outputs": [
    {
     "name": "stdout",
     "output_type": "stream",
     "text": [
      "['ORG']\tHongkong Bank\n",
      "['ORG']\tRahul & Co.\n",
      "===\n",
      "['OTHER_PERSON']\tAgya\n",
      "['OTHER_PERSON']\tKaur\n",
      "['OTHER_PERSON']\tTarlochan Singh\n",
      "===\n"
     ]
    }
   ],
   "source": [
    "data = json.load(open('../../data/ner/NER_TRAIN/NER_TRAIN_JUDGEMENT.json'))\n",
    "\n",
    "for ix in range(2):\n",
    "    for res in data[ix]['annotations']:\n",
    "        tmp = res['result']\n",
    "        for r in tmp:\n",
    "            print(f\"{r['value']['labels']}\\t{r['value']['text']}\")\n",
    "    print(\"===\")"
   ]
  },
  {
   "cell_type": "code",
   "execution_count": 9,
   "metadata": {},
   "outputs": [
    {
     "name": "stderr",
     "output_type": "stream",
     "text": [
      "100%|█████████████████████████████████████████████████████████████████████████████████████████████████████████████████████████████████| 9435/9435 [00:00<00:00, 631444.50it/s]\n"
     ]
    }
   ],
   "source": [
    "CLASSES = []\n",
    "\n",
    "\n",
    "from tqdm import tqdm\n",
    "\n",
    "for ix in tqdm(range(len(data))):\n",
    "    for res in data[ix]['annotations']:\n",
    "        tmp = res['result']\n",
    "        for r in tmp:\n",
    "            # print(f\"{r['value']['labels']}\\t{r['value']['text']}\")\n",
    "            CLASSES.extend(r['value']['labels'])\n",
    "    # print(\"===\")"
   ]
  },
  {
   "cell_type": "code",
   "execution_count": 10,
   "metadata": {},
   "outputs": [
    {
     "data": {
      "text/plain": [
       "['ORG',\n",
       " 'ORG',\n",
       " 'OTHER_PERSON',\n",
       " 'OTHER_PERSON',\n",
       " 'OTHER_PERSON',\n",
       " 'WITNESS',\n",
       " 'ORG',\n",
       " 'GPE',\n",
       " 'ORG',\n",
       " 'OTHER_PERSON']"
      ]
     },
     "execution_count": 10,
     "metadata": {},
     "output_type": "execute_result"
    }
   ],
   "source": [
    "CLASSES[:10]"
   ]
  },
  {
   "cell_type": "code",
   "execution_count": 11,
   "metadata": {},
   "outputs": [
    {
     "data": {
      "text/plain": [
       "(17485, 13)"
      ]
     },
     "execution_count": 11,
     "metadata": {},
     "output_type": "execute_result"
    }
   ],
   "source": [
    "UNIQUE_CLASSES = list(set(CLASSES))\n",
    "len(CLASSES), len(UNIQUE_CLASSES)"
   ]
  },
  {
   "cell_type": "code",
   "execution_count": 12,
   "metadata": {},
   "outputs": [
    {
     "data": {
      "text/plain": [
       "['WITNESS',\n",
       " 'OTHER_PERSON',\n",
       " 'STATUTE',\n",
       " 'CASE_NUMBER',\n",
       " 'GPE',\n",
       " 'ORG',\n",
       " 'DATE',\n",
       " 'JUDGE',\n",
       " 'PROVISION',\n",
       " 'PETITIONER',\n",
       " 'RESPONDENT',\n",
       " 'COURT',\n",
       " 'PRECEDENT']"
      ]
     },
     "execution_count": 12,
     "metadata": {},
     "output_type": "execute_result"
    }
   ],
   "source": [
    "UNIQUE_CLASSES"
   ]
  },
  {
   "cell_type": "code",
   "execution_count": 13,
   "metadata": {},
   "outputs": [
    {
     "data": {
      "text/plain": [
       "Counter({'OTHER_PERSON': 2653,\n",
       "         'PROVISION': 2384,\n",
       "         'DATE': 1885,\n",
       "         'STATUTE': 1804,\n",
       "         'ORG': 1441,\n",
       "         'GPE': 1398,\n",
       "         'PRECEDENT': 1351,\n",
       "         'COURT': 1293,\n",
       "         'CASE_NUMBER': 1040,\n",
       "         'WITNESS': 881,\n",
       "         'JUDGE': 567,\n",
       "         'PETITIONER': 464,\n",
       "         'RESPONDENT': 324})"
      ]
     },
     "execution_count": 13,
     "metadata": {},
     "output_type": "execute_result"
    }
   ],
   "source": [
    "from collections import Counter\n",
    "\n",
    "Counter(CLASSES)"
   ]
  },
  {
   "cell_type": "code",
   "execution_count": 16,
   "metadata": {},
   "outputs": [
    {
     "data": {
      "text/plain": [
       "\"\\n\\n(7) On specific query by the Bench about an entry of Rs. 1,31,37,500 on deposit side of Hongkong Bank account of which a photo copy is appearing at p. 40 of assessee's paper book, learned authorised representative submitted that it was related to loan from broker, Rahul & Co. on the basis of his submission a necessary mark is put by us on that photo copy.\""
      ]
     },
     "execution_count": 16,
     "metadata": {},
     "output_type": "execute_result"
    }
   ],
   "source": [
    "text = data[0]['data']['text']\n",
    "text"
   ]
  },
  {
   "cell_type": "code",
   "execution_count": 20,
   "metadata": {},
   "outputs": [
    {
     "data": {
      "text/plain": [
       "[{'value': {'start': 90,\n",
       "   'end': 103,\n",
       "   'text': 'Hongkong Bank',\n",
       "   'labels': ['ORG']},\n",
       "  'id': 'C8HPTIM1',\n",
       "  'from_name': 'label',\n",
       "  'to_name': 'text',\n",
       "  'type': 'labels'},\n",
       " {'value': {'start': 267,\n",
       "   'end': 278,\n",
       "   'text': 'Rahul & Co.',\n",
       "   'labels': ['ORG']},\n",
       "  'id': 'KOWE3RAM',\n",
       "  'from_name': 'label',\n",
       "  'to_name': 'text',\n",
       "  'type': 'labels'}]"
      ]
     },
     "execution_count": 20,
     "metadata": {},
     "output_type": "execute_result"
    }
   ],
   "source": [
    "data[0]['annotations'][0]['result']"
   ]
  },
  {
   "cell_type": "code",
   "execution_count": 21,
   "metadata": {},
   "outputs": [
    {
     "data": {
      "text/plain": [
       "[{'value': {'start': 26,\n",
       "   'end': 30,\n",
       "   'text': 'Agya',\n",
       "   'labels': ['OTHER_PERSON']},\n",
       "  'id': '0V4Q2F2B',\n",
       "  'from_name': 'label',\n",
       "  'to_name': 'text',\n",
       "  'type': 'labels'},\n",
       " {'value': {'start': 101,\n",
       "   'end': 105,\n",
       "   'text': 'Kaur',\n",
       "   'labels': ['OTHER_PERSON']},\n",
       "  'id': 'HLWY1CM9',\n",
       "  'from_name': 'label',\n",
       "  'to_name': 'text',\n",
       "  'type': 'labels'},\n",
       " {'value': {'start': 159,\n",
       "   'end': 174,\n",
       "   'text': 'Tarlochan Singh',\n",
       "   'labels': ['OTHER_PERSON']},\n",
       "  'id': '9BYYLAZB',\n",
       "  'from_name': 'label',\n",
       "  'to_name': 'text',\n",
       "  'type': 'labels'}]"
      ]
     },
     "execution_count": 21,
     "metadata": {},
     "output_type": "execute_result"
    }
   ],
   "source": [
    "data[1]['annotations'][0]['result']"
   ]
  },
  {
   "cell_type": "code",
   "execution_count": 24,
   "metadata": {},
   "outputs": [
    {
     "data": {
      "text/plain": [
       "(['Hongkong Bank', 'Rahul & Co.'], ['ORG', 'ORG'], [90, 267], [103, 278])"
      ]
     },
     "execution_count": 24,
     "metadata": {},
     "output_type": "execute_result"
    }
   ],
   "source": [
    "texts = []\n",
    "labels = []\n",
    "starts = []\n",
    "ends = []\n",
    "\n",
    "for res in data[0]['annotations'][0]['result']:\n",
    "    texts.append(res['value']['text'])\n",
    "    labels.extend(res['value']['labels'])\n",
    "    starts.append(res['value']['start'])\n",
    "    ends.append(res['value']['end'])\n",
    "    \n",
    "texts, labels, starts, ends"
   ]
  },
  {
   "cell_type": "code",
   "execution_count": 23,
   "metadata": {},
   "outputs": [
    {
     "data": {
      "text/plain": [
       "\"\\n\\n(7) On specific query by the Bench about an entry of Rs. 1,31,37,500 on deposit side of Hongkong Bank account of which a photo copy is appearing at p. 40 of assessee's paper book, learned authorised representative submitted that it was related to loan from broker, Rahul & Co. on the basis of his submission a necessary mark is put by us on that photo copy.\""
      ]
     },
     "execution_count": 23,
     "metadata": {},
     "output_type": "execute_result"
    }
   ],
   "source": [
    "text"
   ]
  },
  {
   "cell_type": "code",
   "execution_count": 32,
   "metadata": {},
   "outputs": [
    {
     "data": {
      "text/plain": [
       "'Hongkong_Bank'"
      ]
     },
     "execution_count": 32,
     "metadata": {},
     "output_type": "execute_result"
    }
   ],
   "source": [
    "text[starts[0]:ends[0]].replace(' ', '_')"
   ]
  },
  {
   "cell_type": "code",
   "execution_count": 33,
   "metadata": {},
   "outputs": [
    {
     "data": {
      "text/plain": [
       "'Rahul_&_Co.'"
      ]
     },
     "execution_count": 33,
     "metadata": {},
     "output_type": "execute_result"
    }
   ],
   "source": [
    "text[starts[1]:ends[1]].replace(' ', '_')"
   ]
  },
  {
   "cell_type": "code",
   "execution_count": 34,
   "metadata": {},
   "outputs": [
    {
     "data": {
      "text/plain": [
       "['Hongkong_Bank', 'Rahul_&_Co.']"
      ]
     },
     "execution_count": 34,
     "metadata": {},
     "output_type": "execute_result"
    }
   ],
   "source": [
    "replaced_texts = []\n",
    "\n",
    "for ix in range(len(texts)):\n",
    "    replaced_texts.append(text[starts[ix]:ends[ix]].replace(' ', '_'))\n",
    "\n",
    "replaced_texts"
   ]
  },
  {
   "cell_type": "code",
   "execution_count": 36,
   "metadata": {},
   "outputs": [],
   "source": [
    "import re"
   ]
  },
  {
   "cell_type": "code",
   "execution_count": 38,
   "metadata": {},
   "outputs": [
    {
     "data": {
      "text/plain": [
       "\"\\n\\n(7) On specific query by the Bench about an entry of Rs. 1,31,37,500 on deposit side of Hongkong_Bank account of which a photo copy is appearing at p. 40 of assessee's paper book, learned authorised representative submitted that it was related to loan from broker, Rahul_&_Co. on the basis of his submission a necessary mark is put by us on that photo copy.\""
      ]
     },
     "execution_count": 38,
     "metadata": {},
     "output_type": "execute_result"
    }
   ],
   "source": [
    "for j in range(len(replaced_texts)):\n",
    "    text = re.sub(texts[j], replaced_texts[j], text)\n",
    "\n",
    "text"
   ]
  },
  {
   "cell_type": "code",
   "execution_count": 40,
   "metadata": {},
   "outputs": [
    {
     "data": {
      "text/plain": [
       "{'Hongkong_Bank': 'ORG', 'Rahul_&_Co.': 'ORG'}"
      ]
     },
     "execution_count": 40,
     "metadata": {},
     "output_type": "execute_result"
    }
   ],
   "source": [
    "mapping_dict = dict(zip(replaced_texts, labels))\n",
    "mapping_dict"
   ]
  },
  {
   "cell_type": "code",
   "execution_count": 39,
   "metadata": {},
   "outputs": [
    {
     "data": {
      "text/plain": [
       "['\\n\\n(7)',\n",
       " 'On',\n",
       " 'specific',\n",
       " 'query',\n",
       " 'by',\n",
       " 'the',\n",
       " 'Bench',\n",
       " 'about',\n",
       " 'an',\n",
       " 'entry',\n",
       " 'of',\n",
       " 'Rs.',\n",
       " '1,31,37,500',\n",
       " 'on',\n",
       " 'deposit',\n",
       " 'side',\n",
       " 'of',\n",
       " 'Hongkong_Bank',\n",
       " 'account',\n",
       " 'of',\n",
       " 'which',\n",
       " 'a',\n",
       " 'photo',\n",
       " 'copy',\n",
       " 'is',\n",
       " 'appearing',\n",
       " 'at',\n",
       " 'p.',\n",
       " '40',\n",
       " 'of',\n",
       " \"assessee's\",\n",
       " 'paper',\n",
       " 'book,',\n",
       " 'learned',\n",
       " 'authorised',\n",
       " 'representative',\n",
       " 'submitted',\n",
       " 'that',\n",
       " 'it',\n",
       " 'was',\n",
       " 'related',\n",
       " 'to',\n",
       " 'loan',\n",
       " 'from',\n",
       " 'broker,',\n",
       " 'Rahul_&_Co.',\n",
       " 'on',\n",
       " 'the',\n",
       " 'basis',\n",
       " 'of',\n",
       " 'his',\n",
       " 'submission',\n",
       " 'a',\n",
       " 'necessary',\n",
       " 'mark',\n",
       " 'is',\n",
       " 'put',\n",
       " 'by',\n",
       " 'us',\n",
       " 'on',\n",
       " 'that',\n",
       " 'photo',\n",
       " 'copy.']"
      ]
     },
     "execution_count": 39,
     "metadata": {},
     "output_type": "execute_result"
    }
   ],
   "source": [
    "text.split(' ')"
   ]
  },
  {
   "cell_type": "code",
   "execution_count": 41,
   "metadata": {},
   "outputs": [
    {
     "data": {
      "text/html": [
       "<div>\n",
       "<style scoped>\n",
       "    .dataframe tbody tr th:only-of-type {\n",
       "        vertical-align: middle;\n",
       "    }\n",
       "\n",
       "    .dataframe tbody tr th {\n",
       "        vertical-align: top;\n",
       "    }\n",
       "\n",
       "    .dataframe thead th {\n",
       "        text-align: right;\n",
       "    }\n",
       "</style>\n",
       "<table border=\"1\" class=\"dataframe\">\n",
       "  <thead>\n",
       "    <tr style=\"text-align: right;\">\n",
       "      <th></th>\n",
       "      <th>sentence #</th>\n",
       "      <th>words</th>\n",
       "      <th>tag</th>\n",
       "    </tr>\n",
       "  </thead>\n",
       "  <tbody>\n",
       "    <tr>\n",
       "      <th>0</th>\n",
       "      <td>Sentence: 0</td>\n",
       "      <td>\\n\\n(7)</td>\n",
       "      <td>OBJECT</td>\n",
       "    </tr>\n",
       "    <tr>\n",
       "      <th>1</th>\n",
       "      <td>Sentence: 0</td>\n",
       "      <td>On</td>\n",
       "      <td>OBJECT</td>\n",
       "    </tr>\n",
       "    <tr>\n",
       "      <th>2</th>\n",
       "      <td>Sentence: 0</td>\n",
       "      <td>specific</td>\n",
       "      <td>OBJECT</td>\n",
       "    </tr>\n",
       "    <tr>\n",
       "      <th>3</th>\n",
       "      <td>Sentence: 0</td>\n",
       "      <td>query</td>\n",
       "      <td>OBJECT</td>\n",
       "    </tr>\n",
       "    <tr>\n",
       "      <th>4</th>\n",
       "      <td>Sentence: 0</td>\n",
       "      <td>by</td>\n",
       "      <td>OBJECT</td>\n",
       "    </tr>\n",
       "    <tr>\n",
       "      <th>...</th>\n",
       "      <td>...</td>\n",
       "      <td>...</td>\n",
       "      <td>...</td>\n",
       "    </tr>\n",
       "    <tr>\n",
       "      <th>293958</th>\n",
       "      <td>Sentence: 9364</td>\n",
       "      <td>with</td>\n",
       "      <td>OBJECT</td>\n",
       "    </tr>\n",
       "    <tr>\n",
       "      <th>293959</th>\n",
       "      <td>Sentence: 9364</td>\n",
       "      <td>accused</td>\n",
       "      <td>OBJECT</td>\n",
       "    </tr>\n",
       "    <tr>\n",
       "      <th>293960</th>\n",
       "      <td>Sentence: 9364</td>\n",
       "      <td>No.1</td>\n",
       "      <td>OBJECT</td>\n",
       "    </tr>\n",
       "    <tr>\n",
       "      <th>293961</th>\n",
       "      <td>Sentence: 9364</td>\n",
       "      <td>as</td>\n",
       "      <td>OBJECT</td>\n",
       "    </tr>\n",
       "    <tr>\n",
       "      <th>293962</th>\n",
       "      <td>Sentence: 9364</td>\n",
       "      <td>aforementioned.</td>\n",
       "      <td>OBJECT</td>\n",
       "    </tr>\n",
       "  </tbody>\n",
       "</table>\n",
       "<p>293963 rows × 3 columns</p>\n",
       "</div>"
      ],
      "text/plain": [
       "            sentence #            words     tag\n",
       "0          Sentence: 0          \\n\\n(7)  OBJECT\n",
       "1          Sentence: 0               On  OBJECT\n",
       "2          Sentence: 0         specific  OBJECT\n",
       "3          Sentence: 0            query  OBJECT\n",
       "4          Sentence: 0               by  OBJECT\n",
       "...                ...              ...     ...\n",
       "293958  Sentence: 9364             with  OBJECT\n",
       "293959  Sentence: 9364          accused  OBJECT\n",
       "293960  Sentence: 9364             No.1  OBJECT\n",
       "293961  Sentence: 9364               as  OBJECT\n",
       "293962  Sentence: 9364  aforementioned.  OBJECT\n",
       "\n",
       "[293963 rows x 3 columns]"
      ]
     },
     "execution_count": 41,
     "metadata": {},
     "output_type": "execute_result"
    }
   ],
   "source": [
    "df = pd.read_csv('../../data/ner/ner_train.csv')\n",
    "df"
   ]
  },
  {
   "cell_type": "code",
   "execution_count": 42,
   "metadata": {},
   "outputs": [
    {
     "data": {
      "text/plain": [
       "tag\n",
       "OBJECT          283921\n",
       "OTHER_PERSON      1589\n",
       "PROVISION         1412\n",
       "DATE              1057\n",
       "COURT             1033\n",
       "STATUTE            958\n",
       "ORG                952\n",
       "GPE                793\n",
       "CASE_NUMBER        609\n",
       "WITNESS            589\n",
       "PRECEDENT          364\n",
       "PETITIONER         312\n",
       "RESPONDENT         201\n",
       "JUDGE              173\n",
       "Name: count, dtype: int64"
      ]
     },
     "execution_count": 42,
     "metadata": {},
     "output_type": "execute_result"
    }
   ],
   "source": [
    "df['tag'].value_counts()"
   ]
  }
 ],
 "metadata": {
  "kernelspec": {
   "display_name": "Python 3 (ipykernel)",
   "language": "python",
   "name": "python3"
  },
  "language_info": {
   "codemirror_mode": {
    "name": "ipython",
    "version": 3
   },
   "file_extension": ".py",
   "mimetype": "text/x-python",
   "name": "python",
   "nbconvert_exporter": "python",
   "pygments_lexer": "ipython3",
   "version": "3.11.5"
  },
  "varInspector": {
   "cols": {
    "lenName": 16,
    "lenType": 16,
    "lenVar": 40
   },
   "kernels_config": {
    "python": {
     "delete_cmd_postfix": "",
     "delete_cmd_prefix": "del ",
     "library": "var_list.py",
     "varRefreshCmd": "print(var_dic_list())"
    },
    "r": {
     "delete_cmd_postfix": ") ",
     "delete_cmd_prefix": "rm(",
     "library": "var_list.r",
     "varRefreshCmd": "cat(var_dic_list()) "
    }
   },
   "types_to_exclude": [
    "module",
    "function",
    "builtin_function_or_method",
    "instance",
    "_Feature"
   ],
   "window_display": false
  }
 },
 "nbformat": 4,
 "nbformat_minor": 2
}
