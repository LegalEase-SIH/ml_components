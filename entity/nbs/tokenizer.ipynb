{
 "cells": [
  {
   "cell_type": "code",
   "execution_count": 1,
   "id": "35601b12",
   "metadata": {},
   "outputs": [],
   "source": [
    "from transformers import AutoTokenizer"
   ]
  },
  {
   "cell_type": "code",
   "execution_count": 2,
   "id": "fa546dd4",
   "metadata": {},
   "outputs": [
    {
     "data": {
      "text/plain": [
       "BertTokenizerFast(name_or_path='bert-base-uncased', vocab_size=30522, model_max_length=512, is_fast=True, padding_side='right', truncation_side='right', special_tokens={'unk_token': '[UNK]', 'sep_token': '[SEP]', 'pad_token': '[PAD]', 'cls_token': '[CLS]', 'mask_token': '[MASK]'}, clean_up_tokenization_spaces=True)"
      ]
     },
     "execution_count": 2,
     "metadata": {},
     "output_type": "execute_result"
    }
   ],
   "source": [
    "tokenizer = AutoTokenizer.from_pretrained(\"bert-base-uncased\")\n",
    "tokenizer"
   ]
  },
  {
   "cell_type": "code",
   "execution_count": 3,
   "id": "4f4d11c0",
   "metadata": {},
   "outputs": [
    {
     "data": {
      "text/plain": [
       "[10958, 21886, 1004, 2522]"
      ]
     },
     "execution_count": 3,
     "metadata": {},
     "output_type": "execute_result"
    }
   ],
   "source": [
    "tokenizer.encode(\"Rahul & Co\", add_special_tokens=False)"
   ]
  },
  {
   "cell_type": "code",
   "execution_count": 4,
   "id": "79d41528",
   "metadata": {},
   "outputs": [
    {
     "data": {
      "text/plain": [
       "'rahul & co'"
      ]
     },
     "execution_count": 4,
     "metadata": {},
     "output_type": "execute_result"
    }
   ],
   "source": [
    "tokenizer.decode([10958, 21886, 1004, 2522])"
   ]
  },
  {
   "cell_type": "code",
   "execution_count": 1,
   "id": "936b3d98",
   "metadata": {},
   "outputs": [],
   "source": [
    "import pandas as pd"
   ]
  },
  {
   "cell_type": "code",
   "execution_count": 2,
   "id": "42dcff74",
   "metadata": {},
   "outputs": [
    {
     "data": {
      "text/html": [
       "<div>\n",
       "<style scoped>\n",
       "    .dataframe tbody tr th:only-of-type {\n",
       "        vertical-align: middle;\n",
       "    }\n",
       "\n",
       "    .dataframe tbody tr th {\n",
       "        vertical-align: top;\n",
       "    }\n",
       "\n",
       "    .dataframe thead th {\n",
       "        text-align: right;\n",
       "    }\n",
       "</style>\n",
       "<table border=\"1\" class=\"dataframe\">\n",
       "  <thead>\n",
       "    <tr style=\"text-align: right;\">\n",
       "      <th></th>\n",
       "      <th>sentence #</th>\n",
       "      <th>words</th>\n",
       "      <th>tag</th>\n",
       "    </tr>\n",
       "  </thead>\n",
       "  <tbody>\n",
       "    <tr>\n",
       "      <th>0</th>\n",
       "      <td>Sentence: 0</td>\n",
       "      <td>\\n\\n(7)</td>\n",
       "      <td>OBJECT</td>\n",
       "    </tr>\n",
       "    <tr>\n",
       "      <th>1</th>\n",
       "      <td>Sentence: 0</td>\n",
       "      <td>On</td>\n",
       "      <td>OBJECT</td>\n",
       "    </tr>\n",
       "    <tr>\n",
       "      <th>2</th>\n",
       "      <td>Sentence: 0</td>\n",
       "      <td>specific</td>\n",
       "      <td>OBJECT</td>\n",
       "    </tr>\n",
       "    <tr>\n",
       "      <th>3</th>\n",
       "      <td>Sentence: 0</td>\n",
       "      <td>query</td>\n",
       "      <td>OBJECT</td>\n",
       "    </tr>\n",
       "    <tr>\n",
       "      <th>4</th>\n",
       "      <td>Sentence: 0</td>\n",
       "      <td>by</td>\n",
       "      <td>OBJECT</td>\n",
       "    </tr>\n",
       "    <tr>\n",
       "      <th>...</th>\n",
       "      <td>...</td>\n",
       "      <td>...</td>\n",
       "      <td>...</td>\n",
       "    </tr>\n",
       "    <tr>\n",
       "      <th>293958</th>\n",
       "      <td>Sentence: 9364</td>\n",
       "      <td>with</td>\n",
       "      <td>OBJECT</td>\n",
       "    </tr>\n",
       "    <tr>\n",
       "      <th>293959</th>\n",
       "      <td>Sentence: 9364</td>\n",
       "      <td>accused</td>\n",
       "      <td>OBJECT</td>\n",
       "    </tr>\n",
       "    <tr>\n",
       "      <th>293960</th>\n",
       "      <td>Sentence: 9364</td>\n",
       "      <td>No.1</td>\n",
       "      <td>OBJECT</td>\n",
       "    </tr>\n",
       "    <tr>\n",
       "      <th>293961</th>\n",
       "      <td>Sentence: 9364</td>\n",
       "      <td>as</td>\n",
       "      <td>OBJECT</td>\n",
       "    </tr>\n",
       "    <tr>\n",
       "      <th>293962</th>\n",
       "      <td>Sentence: 9364</td>\n",
       "      <td>aforementioned.</td>\n",
       "      <td>OBJECT</td>\n",
       "    </tr>\n",
       "  </tbody>\n",
       "</table>\n",
       "<p>293963 rows × 3 columns</p>\n",
       "</div>"
      ],
      "text/plain": [
       "            sentence #            words     tag\n",
       "0          Sentence: 0          \\n\\n(7)  OBJECT\n",
       "1          Sentence: 0               On  OBJECT\n",
       "2          Sentence: 0         specific  OBJECT\n",
       "3          Sentence: 0            query  OBJECT\n",
       "4          Sentence: 0               by  OBJECT\n",
       "...                ...              ...     ...\n",
       "293958  Sentence: 9364             with  OBJECT\n",
       "293959  Sentence: 9364          accused  OBJECT\n",
       "293960  Sentence: 9364             No.1  OBJECT\n",
       "293961  Sentence: 9364               as  OBJECT\n",
       "293962  Sentence: 9364  aforementioned.  OBJECT\n",
       "\n",
       "[293963 rows x 3 columns]"
      ]
     },
     "execution_count": 2,
     "metadata": {},
     "output_type": "execute_result"
    }
   ],
   "source": [
    "df = pd.read_csv('../../data/ner/ner_train.csv')\n",
    "df"
   ]
  },
  {
   "cell_type": "code",
   "execution_count": 7,
   "id": "4cc99817",
   "metadata": {},
   "outputs": [
    {
     "data": {
      "text/plain": [
       "sentence #    Sentence: 5710\n",
       "words                    the\n",
       "tag                   OBJECT\n",
       "Name: 180000, dtype: object"
      ]
     },
     "execution_count": 7,
     "metadata": {},
     "output_type": "execute_result"
    }
   ],
   "source": [
    "x = 180034\n",
    "df.iloc[x]"
   ]
  },
  {
   "cell_type": "code",
   "execution_count": 26,
   "id": "eeb2b008",
   "metadata": {},
   "outputs": [
    {
     "data": {
      "text/plain": [
       "sentence #    Sentence: 5711\n",
       "words                 Having\n",
       "tag                   OBJECT\n",
       "Name: 180035, dtype: object"
      ]
     },
     "execution_count": 26,
     "metadata": {},
     "output_type": "execute_result"
    }
   ],
   "source": [
    "df.iloc[x + 35]"
   ]
  }
 ],
 "metadata": {
  "kernelspec": {
   "display_name": "venv",
   "language": "python",
   "name": "python3"
  },
  "language_info": {
   "codemirror_mode": {
    "name": "ipython",
    "version": 3
   },
   "file_extension": ".py",
   "mimetype": "text/x-python",
   "name": "python",
   "nbconvert_exporter": "python",
   "pygments_lexer": "ipython3",
   "version": "3.11.5"
  },
  "varInspector": {
   "cols": {
    "lenName": 16,
    "lenType": 16,
    "lenVar": 40
   },
   "kernels_config": {
    "python": {
     "delete_cmd_postfix": "",
     "delete_cmd_prefix": "del ",
     "library": "var_list.py",
     "varRefreshCmd": "print(var_dic_list())"
    },
    "r": {
     "delete_cmd_postfix": ") ",
     "delete_cmd_prefix": "rm(",
     "library": "var_list.r",
     "varRefreshCmd": "cat(var_dic_list()) "
    }
   },
   "types_to_exclude": [
    "module",
    "function",
    "builtin_function_or_method",
    "instance",
    "_Feature"
   ],
   "window_display": false
  }
 },
 "nbformat": 4,
 "nbformat_minor": 5
}
