{
 "cells": [
  {
   "cell_type": "code",
   "execution_count": 1,
   "id": "445f8806",
   "metadata": {},
   "outputs": [
    {
     "name": "stderr",
     "output_type": "stream",
     "text": [
      "/Users/aneeshaparajit/miniconda3/lib/python3.11/site-packages/pinecone/index.py:4: TqdmExperimentalWarning: Using `tqdm.autonotebook.tqdm` in notebook mode. Use `tqdm.tqdm` instead to force console mode (e.g. in jupyter console)\n",
      "  from tqdm.autonotebook import tqdm\n"
     ]
    }
   ],
   "source": [
    "import pinecone      \n",
    "\n",
    "pinecone.init(      \n",
    "\tapi_key='def560e2-d944-4462-951b-8f898f867558',      \n",
    "\tenvironment='us-east1-gcp'      \n",
    ")      \n",
    "index = pinecone.Index('legalease')"
   ]
  },
  {
   "cell_type": "code",
   "execution_count": 2,
   "id": "c40880d7",
   "metadata": {},
   "outputs": [],
   "source": [
    "from sentence_transformers import SentenceTransformer\n",
    "model = SentenceTransformer('all-MiniLM-L6-v2')\n"
   ]
  },
  {
   "cell_type": "code",
   "execution_count": 10,
   "id": "a17256f3",
   "metadata": {},
   "outputs": [
    {
     "data": {
      "text/plain": [
       "384"
      ]
     },
     "execution_count": 10,
     "metadata": {},
     "output_type": "execute_result"
    }
   ],
   "source": [
    "encoding = model.encode(\"string\").tolist()\n",
    "len(encoding)"
   ]
  },
  {
   "cell_type": "code",
   "execution_count": 11,
   "id": "d79a6abb",
   "metadata": {},
   "outputs": [],
   "source": [
    "res = index.query(vector=encoding, top_k=10, include_metadata=True)"
   ]
  },
  {
   "cell_type": "code",
   "execution_count": 9,
   "id": "eceaf04f",
   "metadata": {},
   "outputs": [
    {
     "data": {
      "text/plain": [
       "{'matches': [{'id': '4909',\n",
       "              'metadata': {'Act ID': 'ACT NO. 35 OF 2009',\n",
       "                           'Act Title': 'THE RIGHT OF CHILDREN TO FREE AND '\n",
       "                                        'COMPULSORY EDUCATION ACT, 2009',\n",
       "                           'text': '.'},\n",
       "              'score': 0.343568504,\n",
       "              'values': []},\n",
       "             {'id': '4154',\n",
       "              'metadata': {'section': 'THE LEGAL REPRESENTATIVES’ SUITS ACT, '\n",
       "                                      '1855 - Section 29.',\n",
       "                           'text': 'Exercise by Subordinate Judge of '\n",
       "                                   'jurisdiction of District Judge in certain '\n",
       "                                   'proceedings.\\n'\n",
       "                                   'Exercise by Subordinate Judge of '\n",
       "                                   'jurisdiction of District Judge in certain '\n",
       "                                   'proceedings.\\n'\n",
       "                                   '(1) The High Court may, by general or '\n",
       "                                   'special order, authorise any Subordinate '\n",
       "                                   'Judge to take cognizance of, or any '\n",
       "                                   'District Judge to transfer to any '\n",
       "                                   'Subordinate Judge under his control, any '\n",
       "                                   'proceedings under the Indian Succession '\n",
       "                                   'Act, 1925 (XXXIX of 1925), which cannot be '\n",
       "                                   'disposed of by District Delegates.\\n'\n",
       "                                   '(2) The District Judge may withdraw any '\n",
       "                                   'such proceedings taken cognizance of by, '\n",
       "                                   'or transferred to, a Subordinate Judge, '\n",
       "                                   'and may either himself dispose of them or '\n",
       "                                   'transfer them to a Court under his control '\n",
       "                                   'competent to dispose of them.\\n'\n",
       "                                   '(3) Notwithstanding anything contained in '\n",
       "                                   'section 13, proceedings taken cognizance '\n",
       "                                   'of by, or transferred to, a Subordinate '\n",
       "                                   'Judge under the provisions of this section '\n",
       "                                   'shall be disposed of by him subject to the '\n",
       "                                   'law applicable to like proceedings when '\n",
       "                                   'disposed of by the District Judge.]'},\n",
       "              'score': 0.330564082,\n",
       "              'values': []},\n",
       "             {'id': '4189',\n",
       "              'metadata': {'section': 'THE WHITE PHOSPHORUS MATCHES '\n",
       "                                      'PROHIBITION ACT, 1913 - Section 29.',\n",
       "                           'text': 'Exercise by Subordinate Judge of '\n",
       "                                   'jurisdiction of District Judge in certain '\n",
       "                                   'proceedings.\\n'\n",
       "                                   'Exercise by Subordinate Judge of '\n",
       "                                   'jurisdiction of District Judge in certain '\n",
       "                                   'proceedings.\\n'\n",
       "                                   '(1) The High Court may, by general or '\n",
       "                                   'special order, authorise any Subordinate '\n",
       "                                   'Judge to take cognizance of, or any '\n",
       "                                   'District Judge to transfer to any '\n",
       "                                   'Subordinate Judge under his control, any '\n",
       "                                   'proceedings under the Indian Succession '\n",
       "                                   'Act, 1925 (XXXIX of 1925), which cannot be '\n",
       "                                   'disposed of by District Delegates.\\n'\n",
       "                                   '(2) The District Judge may withdraw any '\n",
       "                                   'such proceedings taken cognizance of by, '\n",
       "                                   'or transferred to, a Subordinate Judge, '\n",
       "                                   'and may either himself dispose of them or '\n",
       "                                   'transfer them to a Court under his control '\n",
       "                                   'competent to dispose of them.\\n'\n",
       "                                   '(3) Notwithstanding anything contained in '\n",
       "                                   'section 13, proceedings taken cognizance '\n",
       "                                   'of by, or transferred to, a Subordinate '\n",
       "                                   'Judge under the provisions of this section '\n",
       "                                   'shall be disposed of by him subject to the '\n",
       "                                   'law applicable to like proceedings when '\n",
       "                                   'disposed of by the District Judge.]'},\n",
       "              'score': 0.330564082,\n",
       "              'values': []}],\n",
       " 'namespace': ''}"
      ]
     },
     "execution_count": 9,
     "metadata": {},
     "output_type": "execute_result"
    }
   ],
   "source": [
    "res"
   ]
  },
  {
   "cell_type": "code",
   "execution_count": null,
   "id": "76dc71fd",
   "metadata": {},
   "outputs": [],
   "source": []
  }
 ],
 "metadata": {
  "kernelspec": {
   "display_name": "pytorch",
   "language": "python",
   "name": "pytorch"
  },
  "language_info": {
   "codemirror_mode": {
    "name": "ipython",
    "version": 3
   },
   "file_extension": ".py",
   "mimetype": "text/x-python",
   "name": "python",
   "nbconvert_exporter": "python",
   "pygments_lexer": "ipython3",
   "version": "3.11.5"
  },
  "varInspector": {
   "cols": {
    "lenName": 16,
    "lenType": 16,
    "lenVar": 40
   },
   "kernels_config": {
    "python": {
     "delete_cmd_postfix": "",
     "delete_cmd_prefix": "del ",
     "library": "var_list.py",
     "varRefreshCmd": "print(var_dic_list())"
    },
    "r": {
     "delete_cmd_postfix": ") ",
     "delete_cmd_prefix": "rm(",
     "library": "var_list.r",
     "varRefreshCmd": "cat(var_dic_list()) "
    }
   },
   "types_to_exclude": [
    "module",
    "function",
    "builtin_function_or_method",
    "instance",
    "_Feature"
   ],
   "window_display": false
  }
 },
 "nbformat": 4,
 "nbformat_minor": 5
}
